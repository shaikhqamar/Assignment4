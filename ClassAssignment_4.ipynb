{
 "cells": [
  {
   "cell_type": "markdown",
   "id": "7386ea9e",
   "metadata": {},
   "source": [
    "### 1. Given a list of numbers, write a python program that returns a new list which Has all duplicate elements removed. And is sorted in an increasing order.<br>Ex:<br>Input:<br>[2,1,3,4,2,3,3,2,7,9,8,7]<br>Output:<br>[1,2,3,4,7,8,9]"
   ]
  },
  {
   "cell_type": "code",
   "execution_count": 29,
   "id": "4f84d253",
   "metadata": {},
   "outputs": [
    {
     "name": "stdout",
     "output_type": "stream",
     "text": [
      "[1, 2, 3, 4, 7, 8, 9]\n"
     ]
    }
   ],
   "source": [
    "lst=[2,1,3,4,2,3,3,2,7,9,8,7]\n",
    "lst.sort()\n",
    "print(list(set(lst)))"
   ]
  },
  {
   "cell_type": "markdown",
   "id": "7a907b2a",
   "metadata": {},
   "source": [
    "### 2. Write a Python program where you will iterate over both keys and values in dictionaries"
   ]
  },
  {
   "cell_type": "code",
   "execution_count": 47,
   "id": "a77fec3d",
   "metadata": {},
   "outputs": [
    {
     "name": "stdout",
     "output_type": "stream",
     "text": [
      "1 1\n",
      "2 4\n",
      "3 9\n",
      "4 16\n",
      "5 25\n",
      "6 36\n",
      "7 49\n",
      "8 64\n",
      "9 81\n"
     ]
    }
   ],
   "source": [
    "dic1 = {i:i*i for i in range(1,10)}\n",
    "for i in dic1:\n",
    "    print(i,dic1[i])"
   ]
  },
  {
   "cell_type": "code",
   "execution_count": null,
   "id": "6f32683a",
   "metadata": {},
   "outputs": [],
   "source": []
  },
  {
   "cell_type": "markdown",
   "id": "c0647ec8",
   "metadata": {},
   "source": [
    "### 3. Write a Python program that takes a dictionary of student names and returns a list of student names in alphabetical order<br>Ex:<br>Input:<br>{“Student 1”: \"Tarun\", \"Student 2”: \"Manoj\", \"Student 3”: \"Gephi”}<br>Output:<br>[“Gephi”,Manoj”,” Tarun”]”"
   ]
  },
  {
   "cell_type": "code",
   "execution_count": 50,
   "id": "b6073bcf",
   "metadata": {},
   "outputs": [
    {
     "name": "stdout",
     "output_type": "stream",
     "text": [
      "Type student no. : Student1\n",
      "Enter the name :Tarun\n",
      "Type student no. : Student2\n",
      "Enter the name :Manoj\n",
      "Type student no. : Student3\n",
      "Enter the name :Gephi\n",
      "{'Student1': 'Tarun', 'Student2': 'Manoj', 'Student3': 'Gephi'}\n",
      "List of alphabatically sorted names  ['Gephi', 'Manoj', 'Tarun']\n"
     ]
    }
   ],
   "source": [
    "students = {}\n",
    "names = []\n",
    "for i in range(3):\n",
    "    key = input(\"Type student no. : \")\n",
    "    name = input(\"Enter the name :\")\n",
    "    students.update({key:name})\n",
    "    names.append(students[key])\n",
    "    names.sort()\n",
    "print(students)\n",
    "print(\"List of alphabatically sorted names \",names)\n"
   ]
  },
  {
   "cell_type": "code",
   "execution_count": 35,
   "id": "12912d1b",
   "metadata": {},
   "outputs": [],
   "source": []
  },
  {
   "cell_type": "markdown",
   "id": "f9b31b33",
   "metadata": {},
   "source": [
    "### 4. Write a Python which returns a new list of Booleans, from a given number. Iterating<br>through the number one digit at a time, append True if the digitis 1 and False if it is 0.<br>Ex:<br>Input: “01001”<br>Output: [“False”, “True”, “False”,” False”,” True”]"
   ]
  },
  {
   "cell_type": "code",
   "execution_count": 3,
   "id": "5a67ce16",
   "metadata": {},
   "outputs": [
    {
     "name": "stdout",
     "output_type": "stream",
     "text": [
      "Enter the digits : 1101010\n",
      "1101010\n",
      "[True, True, False, True, False, True, False]\n"
     ]
    }
   ],
   "source": [
    "str1=input(\"Enter the digits : \")\n",
    "l=[]\n",
    "for i in str1:\n",
    "    if i == '0':\n",
    "        l.append(False)\n",
    "    else:\n",
    "        l.append(True)\n",
    "print(str1)\n",
    "print(l)"
   ]
  },
  {
   "cell_type": "code",
   "execution_count": null,
   "id": "a7239b82",
   "metadata": {
    "scrolled": true
   },
   "outputs": [],
   "source": []
  },
  {
   "cell_type": "markdown",
   "id": "6b2e98de",
   "metadata": {},
   "source": [
    "### 5. Write a Python program where you will return a dictionary where the keys will be the character and the values will be the occurrence of the character in the string, and it should for any string inputs (dynamic)<br>Ex:<br>Input: “my name is ame”<br>Output: {“m”:3,” y”:1,” n”:1,” a”:2,” e”:2,” i”:1,” s”:1}"
   ]
  },
  {
   "cell_type": "code",
   "execution_count": 8,
   "id": "a9bf3c91",
   "metadata": {},
   "outputs": [
    {
     "name": "stdout",
     "output_type": "stream",
     "text": [
      "Type Your String : Qamar\n",
      "{'Q': 1, 'a': 2, 'm': 1, 'r': 1}\n"
     ]
    }
   ],
   "source": [
    "user_input = input(\"Type Your String : \")\n",
    "char_occurence = {}\n",
    "for i in user_input:\n",
    "    char_occurence.update({i:user_input.count(i)})\n",
    "print(char_occurence)"
   ]
  },
  {
   "cell_type": "markdown",
   "id": "1722d493",
   "metadata": {},
   "source": [
    "### 6. Given a dictionary containing the names and ages of a group of people, return the name of the oldest person<br>Ex:<br>Input: {\"Tmma\": 41, \"Ackes\": 45, \"myna\": 15, \"Benthon\": 29}<br>Output: “Ackes”"
   ]
  },
  {
   "cell_type": "code",
   "execution_count": 30,
   "id": "1d6f16cb",
   "metadata": {},
   "outputs": [
    {
     "name": "stdout",
     "output_type": "stream",
     "text": [
      "Ackes is the oldest among the ppl with age of 45 \n"
     ]
    }
   ],
   "source": [
    "data = {\n",
    "     \"Tmma\": 41, \n",
    "     \"Ackes\": 45, \n",
    "     \"myna\": 15, \n",
    "     \"Benthon\": 29\n",
    "}\n",
    "oldest = max(data.values())\n",
    "#b\n",
    "for i in data:\n",
    "    if data[i]==oldest:\n",
    "        print(i,\"is the oldest among the ppl with age of {} \".format(oldest))"
   ]
  },
  {
   "cell_type": "code",
   "execution_count": null,
   "id": "91b919c4",
   "metadata": {},
   "outputs": [],
   "source": []
  },
  {
   "cell_type": "markdown",
   "id": "d4dfb6be",
   "metadata": {},
   "source": [
    "### 7. Write a Python program to create a Rock, Paper, Scissor game, use two inputs for two<br>players:<br>Conditions: -Rock beats Scissors, Scissors beats Paper, Paper beats<br>Rock"
   ]
  },
  {
   "cell_type": "code",
   "execution_count": 4,
   "id": "ba5613a6",
   "metadata": {},
   "outputs": [
    {
     "name": "stdout",
     "output_type": "stream",
     "text": [
      "Enter player_1 choice (rock, paper, scissor): paper\n",
      "\n",
      "player_1 chose paper, player_2 chose scissor.\n",
      "\n",
      "Scissor cuts paper! player_1 lose.\n"
     ]
    }
   ],
   "source": [
    "import random\n",
    "player_1 = input(\"Enter player_1 choice (rock, paper, scissor): \")\n",
    "possible_actions = [\"rock\", \"paper\", \"scissor\"]\n",
    "player_2 =  random.choice(possible_actions)\n",
    "\n",
    "print(\"\\nplayer_1 chose {}, player_2 chose {}.\\n\".format(player_1,player_2))\n",
    "\n",
    "if player_1 == player_2:\n",
    "    print(\"Both players selected {}. It's a tie!\".format(player_1))\n",
    "    \n",
    "elif player_1 == \"rock\":\n",
    "    if player_2 == \"scissor\":\n",
    "        print(\"Rock smashes scissor! player_1 win!\")\n",
    "    else:\n",
    "        print(\"Paper covers rock! player_1 lose.\")\n",
    "        \n",
    "elif player_1 == \"paper\":\n",
    "    if player_2 == \"rock\":\n",
    "        print(\"Paper covers rock! player_1 win!\")\n",
    "    else:\n",
    "        print(\"Scissor cuts paper! player_1 lose.\")\n",
    "        \n",
    "elif player_1 == \"scissor\":\n",
    "    if player_2 == \"paper\":\n",
    "        print(\"Scissor cuts paper! player_1 win!\")\n",
    "    else:\n",
    "        print(\"Rock smashes scissor! player_1 lose.\")"
   ]
  },
  {
   "cell_type": "markdown",
   "id": "7ac48aac",
   "metadata": {},
   "source": [
    "### 8. Create a program that returns a list of items that you can afford in the store with the money you have in your wallet. Create a dictionary with items as key and price as values<br>Ex:<br>Input:<br>{“water bottles”: “20”,” chips”:10,” Iphone”;49000“,” towel”:90,”,pens”:58,” cake”;400}<br>Your wallet balance: -50<br>Output: [“water bottles”, “chips”]"
   ]
  },
  {
   "cell_type": "code",
   "execution_count": 54,
   "id": "55ec7c23",
   "metadata": {},
   "outputs": [
    {
     "name": "stdout",
     "output_type": "stream",
     "text": [
      "Enter the wallet money 500\n",
      "Want to buy ? y/n y\n",
      "Type item name : cake\n",
      "Want to buy ? y/n y\n",
      "Type item name : cake\n",
      "there is only 100 rupees are in your wallet , take something cheaper \n",
      "Want to buy ? y/n y\n",
      "Type item name : towel\n",
      "Want to buy ? y/n n\n",
      "Your bought items are ->  ['cake', 'towel'] Your remaining balance is  10 rupees\n"
     ]
    }
   ],
   "source": [
    "store = {\n",
    "    \"bottles\": 20,\n",
    "    \"chips\":10,\n",
    "    \"Iphone\":49000,\n",
    "    \"towel\":90,\n",
    "    \"pens\":58,\n",
    "    \"cake\":400\n",
    "}\n",
    "\n",
    "wallet = int(input(\"Enter the wallet money \"))\n",
    "items = []\n",
    "while wallet!=0:\n",
    "    ask  = input(\"Want to buy ? y/n \")\n",
    "    if ask == \"y\":\n",
    "        item_name = input(\"Type item name : \")\n",
    "        if item_name in store:\n",
    "            \n",
    "            if wallet<store[item_name]:\n",
    "                print(\"there is only {} rupees are in your wallet , take something cheaper \".format(wallet))\n",
    "            else:\n",
    "                items.append(item_name)\n",
    "                wallet = wallet-store[item_name]\n",
    "        else:\n",
    "            print(\"Item out of stock !\")\n",
    "    else:\n",
    "        ask == \"n\"\n",
    "        break\n",
    "print(\"Your bought items are -> \",items,\"Your remaining balance are\",wallet,\"rupees\")"
   ]
  },
  {
   "cell_type": "code",
   "execution_count": null,
   "id": "0bfe9c8b",
   "metadata": {},
   "outputs": [],
   "source": []
  },
  {
   "cell_type": "markdown",
   "id": "e7eab72c",
   "metadata": {},
   "source": [
    "### 9. Write a Python program to create a union of sets"
   ]
  },
  {
   "cell_type": "code",
   "execution_count": 66,
   "id": "ed49711e",
   "metadata": {},
   "outputs": [
    {
     "name": "stdout",
     "output_type": "stream",
     "text": [
      "Set1 -> {10, 11, 12, 13, 14, 19}\n",
      "Set2 -> {11, 13, 15, 16, 17, 19}\n",
      "Set after union :  {10, 11, 12, 13, 14, 15, 16, 17, 19}\n"
     ]
    }
   ],
   "source": [
    "import random\n",
    "set1=set(random.randrange(10, 20) for i in range(7))\n",
    "print(\"Set1 ->\",set1)\n",
    "set2=set(random.randrange(10, 20) for i in range(7))\n",
    "print(\"Set2 ->\",set2)\n",
    "print(\"Set after union : \",set1.union(set2))"
   ]
  },
  {
   "cell_type": "code",
   "execution_count": null,
   "id": "7ae50deb",
   "metadata": {},
   "outputs": [],
   "source": []
  },
  {
   "cell_type": "markdown",
   "id": "f1370257",
   "metadata": {},
   "source": [
    "### 10. Write a Python program to check if a given value is present in a set or not (Dynamic)"
   ]
  },
  {
   "cell_type": "code",
   "execution_count": 69,
   "id": "d1df03b7",
   "metadata": {},
   "outputs": [
    {
     "name": "stdout",
     "output_type": "stream",
     "text": [
      "{1, 2, 3, 4, 5, 6, 7, 8, 9}\n",
      "Enter your number to find : 11\n",
      "11 is not present\n"
     ]
    }
   ],
   "source": [
    "a = set(i for i in range(1,10))\n",
    "print(a)\n",
    "value = int(input(\"Enter your number to find : \"))\n",
    "for i in a:\n",
    "    if (i==value):\n",
    "        print(\"yes {} is present\".format(value))\n",
    "        break\n",
    "    else:\n",
    "        continue\n",
    "else:\n",
    "    print(\"{} is not present\".format(value))"
   ]
  },
  {
   "cell_type": "code",
   "execution_count": null,
   "id": "d47d71f3",
   "metadata": {},
   "outputs": [],
   "source": []
  },
  {
   "cell_type": "markdown",
   "id": "ff227140",
   "metadata": {},
   "source": [
    "### 11. Write a Python program to find the occurrences of 3 most common words in a given text. And make it as a dictionaries<br>Ex:<br>Input:<br>” Cat dog dog cat horse dog dog mouse horse dog mouse tiger lion tiger cat mouse snail”<br>Output: (“dog”:5,”cat”:3,” mouse”;3)"
   ]
  },
  {
   "cell_type": "code",
   "execution_count": 41,
   "id": "d99022d0",
   "metadata": {},
   "outputs": [
    {
     "name": "stdout",
     "output_type": "stream",
     "text": [
      "{'cat': 3, 'dog': 5, 'mouse': 3}\n"
     ]
    }
   ],
   "source": [
    "string = \"\"\"Cat dog dog cat horse dog dog \n",
    "            mouse horse dog mouse tiger lion \n",
    "            tiger cat mouse snail\"\"\".lower()\n",
    "\n",
    "words_ocuurd = {}\n",
    "for i in string.split():\n",
    "    if string.count(i)>2:\n",
    "        words_ocuurd.update({i:string.count(i)})\n",
    "print(words_ocuurd)\n",
    "\n"
   ]
  },
  {
   "cell_type": "code",
   "execution_count": null,
   "id": "21299df7",
   "metadata": {},
   "outputs": [],
   "source": []
  },
  {
   "cell_type": "markdown",
   "id": "7b0fbc3a",
   "metadata": {},
   "source": [
    "### 12. Write a Python program that accepts name of given subject and mark, and make subjects as keys in dictionaries and marks as values and print the final dictionary with subjects and marks"
   ]
  },
  {
   "cell_type": "code",
   "execution_count": 44,
   "id": "f64c1805",
   "metadata": {},
   "outputs": [
    {
     "name": "stdout",
     "output_type": "stream",
     "text": [
      "How many subjects are there: 5\n",
      "Subject Name : English\n",
      "Marks Obtained : 87\n",
      "Subject Name : Maths\n",
      "Marks Obtained : 68\n",
      "Subject Name : Hindi\n",
      "Marks Obtained : 95\n",
      "Subject Name : Science\n",
      "Marks Obtained : 80\n",
      "Subject Name : S.Studies\n",
      "Marks Obtained : 77\n",
      "{'English': 87, 'Maths': 68, 'Hindi': 95, 'Science': 80, 'S.Studies': 77}\n"
     ]
    }
   ],
   "source": [
    "subjects = int(input(\"How many subjects are there: \"))\n",
    "mark_sheet = {}\n",
    "for i in range(subjects):\n",
    "    sub_name = input(\"Subject Name : \")\n",
    "    marks = int(input(\"Marks Obtained : \"))\n",
    "    mark_sheet.update({sub_name:marks})\n",
    "print(mark_sheet)"
   ]
  },
  {
   "cell_type": "code",
   "execution_count": null,
   "id": "af277db1",
   "metadata": {},
   "outputs": [],
   "source": []
  }
 ],
 "metadata": {
  "kernelspec": {
   "display_name": "Python 3",
   "language": "python",
   "name": "python3"
  },
  "language_info": {
   "codemirror_mode": {
    "name": "ipython",
    "version": 3
   },
   "file_extension": ".py",
   "mimetype": "text/x-python",
   "name": "python",
   "nbconvert_exporter": "python",
   "pygments_lexer": "ipython3",
   "version": "3.8.10"
  }
 },
 "nbformat": 4,
 "nbformat_minor": 5
}
